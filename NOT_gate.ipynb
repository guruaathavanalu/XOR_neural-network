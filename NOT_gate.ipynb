{
 "cells": [
  {
   "cell_type": "code",
   "execution_count": 1,
   "metadata": {},
   "outputs": [],
   "source": [
    "import math\n",
    "def sig(x):\n",
    "    return(1/(1+math.exp(-x)))\n",
    "    \n",
    "import numpy as np\n"
   ]
  },
  {
   "cell_type": "code",
   "execution_count": 15,
   "metadata": {},
   "outputs": [],
   "source": [
    "n1=0;\n",
    "n2=0;\n",
    "xn=np.array([0,1])\n",
    "yn=np.array([1,0])\n",
    "for i in range(10000):\n",
    "    grad1=0;\n",
    "    grad2=0;\n",
    "    for j in range(len(xn)):\n",
    "        grad1+=(sig(n1+(n2*xn[j]))-yn[j]);\n",
    "        grad2+=((sig(n1+(n2*xn[j]))-yn[j])*xn[j]);\n",
    "    n1=n1-(0.01*grad1/len(xn))\n",
    "    n2=n2-(0.01*grad2/len(xn))"
   ]
  },
  {
   "cell_type": "code",
   "execution_count": 20,
   "metadata": {},
   "outputs": [],
   "source": [
    "def pred_not(x):\n",
    "    x=sig(n1+(n2*x))\n",
    "    if x>0.9 :return(1)\n",
    "    else:return(0)\n",
    "    \n",
    "    "
   ]
  },
  {
   "cell_type": "code",
   "execution_count": 21,
   "metadata": {},
   "outputs": [
    {
     "data": {
      "text/plain": [
       "1"
      ]
     },
     "execution_count": 21,
     "metadata": {},
     "output_type": "execute_result"
    }
   ],
   "source": [
    "pred_not(0)"
   ]
  }
 ],
 "metadata": {
  "kernelspec": {
   "display_name": "Python 3",
   "language": "python",
   "name": "python3"
  },
  "language_info": {
   "codemirror_mode": {
    "name": "ipython",
    "version": 3
   },
   "file_extension": ".py",
   "mimetype": "text/x-python",
   "name": "python",
   "nbconvert_exporter": "python",
   "pygments_lexer": "ipython3",
   "version": "3.7.3"
  }
 },
 "nbformat": 4,
 "nbformat_minor": 2
}
