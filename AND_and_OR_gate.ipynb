{
 "cells": [
  {
   "cell_type": "code",
   "execution_count": 2,
   "metadata": {},
   "outputs": [],
   "source": [
    "import math\n",
    "def sig(x):\n",
    "    return(1/(1+math.exp(-x)))\n",
    "    \n",
    "import numpy as np"
   ]
  },
  {
   "cell_type": "code",
   "execution_count": 3,
   "metadata": {},
   "outputs": [],
   "source": [
    "    \n",
    "a1=0;\n",
    "a2=0;\n",
    "a3=0;\n",
    "\n",
    "x1=np.array([0,1,0,1])\n",
    "x2=np.array([0,0,1,1])\n",
    "ya=np.array([0,0,0,1])\n",
    "for i in range(100000):\n",
    "    grad1a=0;\n",
    "    grad2a=0;\n",
    "    grad3a=0;\n",
    "    for j in range(len(x1)):\n",
    "        grad1a+=(sig(a1+(a2*x1[j])+(a3*x2[j]))-ya[j]);\n",
    "        grad2a+=((sig(a1+(a2*x1[j])+(a3*x2[j]))-ya[j])*x1[j]);\n",
    "        grad3a+=((sig(a1+(a2*x1[j])+(a3*x2[j]))-ya[j])*x2[j]);\n",
    "    a1=a1-(0.01*grad1a/len(x1))\n",
    "    a2=a2-(0.01*grad2a/len(x1))\n",
    "    a3=a3-(0.01*grad3a/len(x1))\n",
    "    \n",
    "o1=0;\n",
    "o2=0;\n",
    "o3=0;\n",
    "yo=np.array([0,1,1,1]);\n",
    "for i in range(100000):\n",
    "    grad1o=0;\n",
    "    grad2o=0;\n",
    "    grad3o=0;\n",
    "    for j in range(len(x1)):\n",
    "        grad1o+=(sig(o1+(o2*x1[j])+(o3*x2[j]))-yo[j]);\n",
    "        grad2o+=((sig(o1+(o2*x1[j])+(o3*x2[j]))-yo[j])*x1[j]);\n",
    "        grad3o+=((sig(o1+(o2*x1[j])+(o3*x2[j]))-yo[j])*x2[j]);\n",
    "    o1=o1-(0.01*grad1o/len(x1))\n",
    "    o2=o2-(0.01*grad2o/len(x1))\n",
    "    o3=o3-(0.01*grad3o/len(x1))\n",
    "    "
   ]
  },
  {
   "cell_type": "code",
   "execution_count": 4,
   "metadata": {},
   "outputs": [],
   "source": [
    "def or_pred(x,y):\n",
    "    a=sig(o1+(o2*x)+(o3*y));\n",
    "    if a>0.9 :return(1)\n",
    "    else:return(0)\n",
    "def and_pred(x,y):\n",
    "    a=sig(a1+(a2*x)+(a3*y));\n",
    "    if a>0.9 :return(1)\n",
    "    else:return(0)\n",
    "    \n"
   ]
  },
  {
   "cell_type": "code",
   "execution_count": 6,
   "metadata": {},
   "outputs": [
    {
     "data": {
      "text/plain": [
       "0"
      ]
     },
     "execution_count": 6,
     "metadata": {},
     "output_type": "execute_result"
    }
   ],
   "source": [
    "and_pred(0,1)"
   ]
  },
  {
   "cell_type": "code",
   "execution_count": 7,
   "metadata": {},
   "outputs": [
    {
     "data": {
      "text/plain": [
       "1"
      ]
     },
     "execution_count": 7,
     "metadata": {},
     "output_type": "execute_result"
    }
   ],
   "source": [
    "or_pred(1,0)"
   ]
  },
  {
   "cell_type": "code",
   "execution_count": null,
   "metadata": {},
   "outputs": [],
   "source": []
  }
 ],
 "metadata": {
  "kernelspec": {
   "display_name": "Python 3",
   "language": "python",
   "name": "python3"
  },
  "language_info": {
   "codemirror_mode": {
    "name": "ipython",
    "version": 3
   },
   "file_extension": ".py",
   "mimetype": "text/x-python",
   "name": "python",
   "nbconvert_exporter": "python",
   "pygments_lexer": "ipython3",
   "version": "3.7.3"
  }
 },
 "nbformat": 4,
 "nbformat_minor": 2
}
